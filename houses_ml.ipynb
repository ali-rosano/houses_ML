{
 "cells": [
  {
   "cell_type": "markdown",
   "id": "524f5d95-8488-4db4-9c6c-f3167663fb9e",
   "metadata": {},
   "source": [
    "# Entrenando y eligiendo modelo de ML para predecir precios de casas"
   ]
  },
  {
   "cell_type": "code",
   "execution_count": 1,
   "id": "b10abd37-fad0-47f5-a3ef-14ee8643921d",
   "metadata": {},
   "outputs": [],
   "source": [
    "# Librerías básicas\n",
    "import pandas as pd\n",
    "import numpy as np\n",
    "\n",
    "# Librerías de visualización\n",
    "import matplotlib.pyplot as plt\n",
    "import seaborn as sns"
   ]
  },
  {
   "cell_type": "code",
   "execution_count": null,
   "id": "5ca519b2-b986-4b7f-aaf6-fcde625d3805",
   "metadata": {},
   "outputs": [],
   "source": []
  }
 ],
 "metadata": {
  "kernelspec": {
   "display_name": "Python 3 (ipykernel)",
   "language": "python",
   "name": "python3"
  },
  "language_info": {
   "codemirror_mode": {
    "name": "ipython",
    "version": 3
   },
   "file_extension": ".py",
   "mimetype": "text/x-python",
   "name": "python",
   "nbconvert_exporter": "python",
   "pygments_lexer": "ipython3",
   "version": "3.11.4"
  }
 },
 "nbformat": 4,
 "nbformat_minor": 5
}
